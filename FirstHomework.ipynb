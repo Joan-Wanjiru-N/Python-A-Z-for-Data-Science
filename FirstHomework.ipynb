{
 "cells": [
  {
   "cell_type": "code",
   "execution_count": 1,
   "metadata": {},
   "outputs": [],
   "source": [
    "import numpy as np\n",
    "from numpy.random import randn"
   ]
  },
  {
   "cell_type": "code",
   "execution_count": 2,
   "metadata": {},
   "outputs": [
    {
     "name": "stdout",
     "output_type": "stream",
     "text": [
      "[ 1.60828272 -0.57826878  1.16650826 -0.31086266  0.57572856  0.47529039\n",
      "  1.08083493 -0.58444438  0.18578292 -0.39429162 -0.44758801 -0.37087819\n",
      "  1.35462829  0.22554471  0.93579063 -1.5116375   1.91833756  0.29052831\n",
      " -0.32468013  0.98868317  0.12754994 -0.53734278 -0.8830789   0.20249006\n",
      " -0.7209239  -1.17601217 -1.92331479 -1.98668428 -0.23091082  0.38747153\n",
      " -0.05057891  1.61664351  1.34481557 -0.080983    0.43026883 -1.26066998\n",
      " -0.69049279  0.18947849 -0.12409239  0.25028686  1.29725223  2.25683465\n",
      " -0.87848305  1.33920089 -0.57636131 -1.00174116  0.69348622 -0.363333\n",
      "  0.36929541 -0.13153838  0.85358448  0.04650875 -0.28489602 -0.90115316\n",
      " -0.54488194  1.05547829 -0.28241622  0.86377774  0.77720161  0.4927957\n",
      " -1.07517702  1.07960175 -0.50912069  0.58029141  1.1674073  -1.04025236\n",
      " -0.28314079 -0.4179442   0.24170966  0.9208045   0.93371515  0.51553865\n",
      " -0.06951708 -0.22796643  0.15970079 -0.87416546  0.49434793  0.60300159\n",
      " -0.69612373 -0.9923506  -1.18289069  0.97827285  0.56803609  0.19755762\n",
      " -0.23503856  2.61914048 -1.85909495  0.67788071  0.63236034  0.9487817\n",
      " -1.09933184  0.80545478 -1.45442272 -0.34591475 -0.9445019   0.38835672\n",
      " -0.64952479  0.82210776  1.42455475  0.13265286]\n"
     ]
    }
   ],
   "source": [
    "#generating 100 random values\n",
    "x = randn(100)\n",
    "print (x)"
   ]
  },
  {
   "cell_type": "code",
   "execution_count": 62,
   "metadata": {},
   "outputs": [
    {
     "name": "stdout",
     "output_type": "stream",
     "text": [
      "0.6836\n"
     ]
    }
   ],
   "source": [
    "N = 10000 #sample size\n",
    "counter = 0 # reset counter to 0\n",
    "for i in randn(10000): # iterate over random values sample size 1000\n",
    "    if(i > -1 and i < 1): #checking random values between -1 and 1\n",
    "        counter = counter + 1 # increasing the counter by 1 is condition is met\n",
    "answer = counter / N #calculating hit-ratio\n",
    "print(answer)"
   ]
  }
 ],
 "metadata": {
  "kernelspec": {
   "display_name": "Python 3",
   "language": "python",
   "name": "python3"
  },
  "language_info": {
   "codemirror_mode": {
    "name": "ipython",
    "version": 3
   },
   "file_extension": ".py",
   "mimetype": "text/x-python",
   "name": "python",
   "nbconvert_exporter": "python",
   "pygments_lexer": "ipython3",
   "version": "3.8.3"
  }
 },
 "nbformat": 4,
 "nbformat_minor": 4
}
