{
 "cells": [
  {
   "cell_type": "code",
   "execution_count": 1,
   "metadata": {},
   "outputs": [],
   "source": [
    "#Data \n",
    "revenue = [14574.49, 7606.46, 8611.41, 9175.41, 8058.65, 8105.44, 11496.28, 9766.09, 10305.32, 14379.96, 10713.97, 15433.50]\n",
    "expenses = [12051.82, 5695.07, 12319.20, 12089.72, 8658.57, 840.20, 3285.73, 5821.12, 6976.93, 16618.61, 10054.37, 3803.96]"
   ]
  },
  {
   "cell_type": "code",
   "execution_count": 2,
   "metadata": {},
   "outputs": [],
   "source": [
    "import numpy as np"
   ]
  },
  {
   "cell_type": "code",
   "execution_count": 3,
   "metadata": {},
   "outputs": [
    {
     "data": {
      "text/plain": [
       "12"
      ]
     },
     "execution_count": 3,
     "metadata": {},
     "output_type": "execute_result"
    }
   ],
   "source": [
    "len(revenue)"
   ]
  },
  {
   "cell_type": "code",
   "execution_count": 71,
   "metadata": {
    "scrolled": true
   },
   "outputs": [
    {
     "name": "stdout",
     "output_type": "stream",
     "text": [
      "Revenue: [14574.49  7606.46  8611.41  9175.41  8058.65  8105.44 11496.28  9766.09\n",
      " 10305.32 14379.96 10713.97 15433.5 ]\n",
      "Expenses: [12051.82  5695.07 12319.2  12089.72  8658.57   840.2   3285.73  5821.12\n",
      "  6976.93 16618.61 10054.37  3803.96]\n"
     ]
    }
   ],
   "source": [
    "red_revenue = np.array(revenue)\n",
    "red_expenses = np.array(expenses)\n",
    "print(\"Revenue:\", red_revenue)\n",
    "print(\"Expenses:\", red_expenses)"
   ]
  },
  {
   "cell_type": "code",
   "execution_count": 22,
   "metadata": {},
   "outputs": [
    {
     "data": {
      "text/plain": [
       "128226.98000000001"
      ]
     },
     "execution_count": 22,
     "metadata": {},
     "output_type": "execute_result"
    }
   ],
   "source": [
    "red_revenue.sum()"
   ]
  },
  {
   "cell_type": "code",
   "execution_count": 23,
   "metadata": {},
   "outputs": [
    {
     "data": {
      "text/plain": [
       "98215.3"
      ]
     },
     "execution_count": 23,
     "metadata": {},
     "output_type": "execute_result"
    }
   ],
   "source": [
    "red_expenses.sum()"
   ]
  },
  {
   "cell_type": "code",
   "execution_count": 47,
   "metadata": {},
   "outputs": [
    {
     "name": "stdout",
     "output_type": "stream",
     "text": [
      "[2522.67, 1911.3900000000003, -3707.790000000001, -2914.3099999999995, -599.9200000000001, 7265.24, 8210.550000000001, 3944.9700000000003, 3328.3899999999994, -2238.6500000000015, 659.5999999999985, 11629.54]\n"
     ]
    }
   ],
   "source": [
    "#profit for each month\n",
    "profit = []\n",
    "for i in range(0, len(red_revenue)):\n",
    "    profit.append(red_revenue[i]-red_expenses[i])\n",
    "print(profit)"
   ]
  },
  {
   "cell_type": "code",
   "execution_count": 25,
   "metadata": {},
   "outputs": [
    {
     "data": {
      "text/plain": [
       "12"
      ]
     },
     "execution_count": 25,
     "metadata": {},
     "output_type": "execute_result"
    }
   ],
   "source": [
    "len(profit)"
   ]
  },
  {
   "cell_type": "code",
   "execution_count": 75,
   "metadata": {},
   "outputs": [
    {
     "name": "stdout",
     "output_type": "stream",
     "text": [
      "This is the Monthly Profit before tax: [ 2522.67  1911.39 -3707.79 -2914.31  -599.92  7265.24  8210.55  3944.97\n",
      "  3328.39 -2238.65   659.6  11629.54]\n"
     ]
    }
   ],
   "source": [
    "#profit before tax\n",
    "np.round(profit, 2)\n",
    "Monthly_Profit = np.round(profit, 2)\n",
    "print(\"This is the Monthly Profit before tax:\", Monthly_Profit)"
   ]
  },
  {
   "cell_type": "code",
   "execution_count": 84,
   "metadata": {},
   "outputs": [
    {
     "name": "stdout",
     "output_type": "stream",
     "text": [
      "Monthly Tax to 2 decimals: [756.8, 573.42, -1112.34, -874.29, -179.98, 2179.57, 2463.16, 1183.49, 998.52, -671.6, 197.88, 3488.86]\n"
     ]
    }
   ],
   "source": [
    "#Tax rate \n",
    "tax = [round(i * 0.3, 2 )for i in Monthly_Profit]\n",
    "print(\"Monthly Tax to 2 decimals:\",tax)"
   ]
  },
  {
   "cell_type": "code",
   "execution_count": 76,
   "metadata": {},
   "outputs": [
    {
     "name": "stdout",
     "output_type": "stream",
     "text": [
      "Monthly Tax to 2 decimals: [ 756.8   573.42 1112.34  874.29  179.98 2179.57 2463.16 1183.49  998.52\n",
      "  671.6   197.88 3488.86]\n"
     ]
    }
   ],
   "source": [
    "#Tax as an absolute value \n",
    "np.abs(tax)\n",
    "Tax = np.abs(tax)\n",
    "print(\"Monthly Tax to 2 decimals:\",Tax)"
   ]
  },
  {
   "cell_type": "code",
   "execution_count": 77,
   "metadata": {},
   "outputs": [
    {
     "name": "stdout",
     "output_type": "stream",
     "text": [
      "This is the Monthly profit after tax: [ 1765.87  1337.97 -4820.13 -3788.6   -779.9   5085.67  5747.39  2761.48\n",
      "  2329.87 -2910.25   461.72  8140.68]\n"
     ]
    }
   ],
   "source": [
    "#profit after 30% tax for each month profit after tax(PAT)=profit before tax(PBT)-Tax rate of PBT\n",
    "PAT = []\n",
    "for i in range(0, len(Monthly_Profit)):\n",
    "    PAT.append(Monthly_Profit[i] - Tax[i])\n",
    "Profit_Tax = []\n",
    "np.round(PAT, 2)\n",
    "Profit_Tax = np.round(PAT, 2) \n",
    "print(\"This is the Monthly profit after tax:\", Profit_Tax)"
   ]
  },
  {
   "cell_type": "code",
   "execution_count": 85,
   "metadata": {},
   "outputs": [
    {
     "name": "stdout",
     "output_type": "stream",
     "text": [
      "[ 0.12  0.18 -0.56 -0.41 -0.1   0.63  0.5   0.28  0.23 -0.2   0.04  0.53]\n"
     ]
    }
   ],
   "source": [
    "#Profit margin for each month-profit after tax divide by revenue\n",
    "profit_Margin = []\n",
    "for i in range(0,len(Profit_Tax)):\n",
    "    profit_Margin.append(Profit_Tax[i]/red_revenue[i])\n",
    "Profit_Margin = []\n",
    "np.round(profit_Margin, 2)\n",
    "Profit_Margin = np.round(profit_Margin, 2)\n",
    "print(Profit_Margin)"
   ]
  },
  {
   "cell_type": "code",
   "execution_count": null,
   "metadata": {},
   "outputs": [],
   "source": []
  }
 ],
 "metadata": {
  "kernelspec": {
   "display_name": "Python 3",
   "language": "python",
   "name": "python3"
  },
  "language_info": {
   "codemirror_mode": {
    "name": "ipython",
    "version": 3
   },
   "file_extension": ".py",
   "mimetype": "text/x-python",
   "name": "python",
   "nbconvert_exporter": "python",
   "pygments_lexer": "ipython3",
   "version": "3.8.3"
  }
 },
 "nbformat": 4,
 "nbformat_minor": 1
}
