{
 "cells": [
  {
   "cell_type": "code",
   "execution_count": 1,
   "metadata": {},
   "outputs": [],
   "source": [
    "# ---- -2 ---- -1 ---- 0 ---- 1 ---- 2\n",
    "import numpy as np\n",
    "from numpy.random import randn"
   ]
  },
  {
   "cell_type": "code",
   "execution_count": 2,
   "metadata": {},
   "outputs": [
    {
     "data": {
      "text/plain": [
       "-1.1021974029998833"
      ]
     },
     "execution_count": 2,
     "metadata": {},
     "output_type": "execute_result"
    }
   ],
   "source": [
    "# ---- -2 ---- -1 ---- 0 ---- 1 ---- 2\n",
    "randn()"
   ]
  },
  {
   "cell_type": "code",
   "execution_count": 46,
   "metadata": {},
   "outputs": [
    {
     "name": "stdout",
     "output_type": "stream",
     "text": [
      "-0.26106677860500954\n",
      "None\n"
     ]
    }
   ],
   "source": [
    "#If statement\n",
    "# ---- -2 ---- -1 ---- 0 ---- 1 ---- 2\n",
    "x = randn()\n",
    "answer = None\n",
    "if x>1:\n",
    "    answer = \"Greater than 1\"\n",
    "print(x)\n",
    "print(answer)"
   ]
  },
  {
   "cell_type": "code",
   "execution_count": 11,
   "metadata": {},
   "outputs": [
    {
     "name": "stdout",
     "output_type": "stream",
     "text": [
      "0.0469769527211956\n",
      "less than 1\n"
     ]
    }
   ],
   "source": [
    "#if else statement\n",
    "# ---- -2 ---- -1 ---- 0 ---- 1 ---- 2\n",
    "x = randn()\n",
    "answer = None\n",
    "if x>1:\n",
    "    answer = \"Greater than 1\"\n",
    "else:\n",
    "    answer = \"less than 1\"\n",
    "print(x)\n",
    "print(answer)"
   ]
  },
  {
   "cell_type": "code",
   "execution_count": 74,
   "metadata": {},
   "outputs": [
    {
     "name": "stdout",
     "output_type": "stream",
     "text": [
      "-1.2930569068905728\n",
      "Less than -1\n"
     ]
    }
   ],
   "source": [
    "#nested statement\n",
    "# ---- -2 ---- -1 ---- 0 ---- 1 ---- 2\n",
    "x = randn()\n",
    "answer = None\n",
    "if x>1:\n",
    "    answer = \"Greater than 1\"\n",
    "else:\n",
    "    if x >= -1:\n",
    "        answer =\"Between -1 and 1\"\n",
    "    else:\n",
    "        answer = \"Less than -1\"\n",
    "print(x)\n",
    "print(answer)"
   ]
  },
  {
   "cell_type": "code",
   "execution_count": 50,
   "metadata": {},
   "outputs": [
    {
     "name": "stdout",
     "output_type": "stream",
     "text": [
      "Hello\n",
      "2.087090090537778\n",
      "Greater than 1\n"
     ]
    }
   ],
   "source": [
    "#Chained statements\n",
    "# ---- -2 ---- -1 ---- 0 ---- 1 ---- 2\n",
    "x = randn()\n",
    "answer = None\n",
    "if x>1:\n",
    "    answer = \"Greater than 1\"\n",
    "elif x>= -1:\n",
    "    answer =\"Between -1 and 1\"\n",
    "else:\n",
    "    answer = \"Less than -1\"\n",
    "print(\"Hello\")\n",
    "print(x)\n",
    "print(answer)"
   ]
  },
  {
   "cell_type": "code",
   "execution_count": null,
   "metadata": {},
   "outputs": [],
   "source": []
  }
 ],
 "metadata": {
  "kernelspec": {
   "display_name": "Python 3",
   "language": "python",
   "name": "python3"
  },
  "language_info": {
   "codemirror_mode": {
    "name": "ipython",
    "version": 3
   },
   "file_extension": ".py",
   "mimetype": "text/x-python",
   "name": "python",
   "nbconvert_exporter": "python",
   "pygments_lexer": "ipython3",
   "version": "3.8.3"
  }
 },
 "nbformat": 4,
 "nbformat_minor": 4
}
